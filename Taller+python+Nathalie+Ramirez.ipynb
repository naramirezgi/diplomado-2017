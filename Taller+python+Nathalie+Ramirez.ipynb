{
 "cells": [
  {
   "cell_type": "markdown",
   "metadata": {},
   "source": [
    "# Taller evaluable sobre la extracción, transformación y visualización de datos usando IPython"
   ]
  },
  {
   "cell_type": "markdown",
   "metadata": {},
   "source": [
    "**Juan David Velásquez Henao**   \n",
    "jdvelasq@unal.edu.co  \n",
    "Universidad Nacional de Colombia, Sede Medellín  \n",
    "Facultad de Minas  \n",
    "Medellín, Colombia "
   ]
  },
  {
   "cell_type": "markdown",
   "metadata": {},
   "source": [
    "# Instrucciones"
   ]
  },
  {
   "cell_type": "markdown",
   "metadata": {},
   "source": [
    "En la carpeta 'Taller' del repositorio 'ETVL-IPython' se encuentran los archivos 'Precio_Bolsa_Nacional_($kwh)_'*'.xls' en formato de Microsoft Excel, los cuales contienen los precios históricos horarios de la electricidad para el mercado eléctrico Colombiano entre los años 1995 y 2017 en COL-PESOS/kWh. A partir de la información suministrada resuelva los siguientes puntos usando el lenguaje de programación Python. "
   ]
  },
  {
   "cell_type": "markdown",
   "metadata": {},
   "source": [
    "# Preguntas"
   ]
  },
  {
   "cell_type": "markdown",
   "metadata": {},
   "source": []
  },
  {
   "cell_type": "markdown",
   "metadata": {},
   "source": [
    "**1.--** Lea los archivos y cree una tabla única concatenando la información para cada uno de los años. Imprima el encabezamiento de la tabla usando `head()`. "
   ]
  },
  {
   "cell_type": "code",
   "execution_count": 1,
   "metadata": {
    "collapsed": true
   },
   "outputs": [],
   "source": [
    "import pandas as pd\n",
    "%matplotlib inline\n",
    "import numpy as np\n",
    "import matplotlib.pyplot as plt\n",
    "import matplotlib as mpl\n",
    "plt.style.use('ggplot')"
   ]
  },
  {
   "cell_type": "code",
   "execution_count": 2,
   "metadata": {
    "collapsed": true
   },
   "outputs": [],
   "source": [
    "# Inicialmente se crea una lista vacia la cual se quiere correr de 1995 a 2017 que son los archivos que tenemos \n",
    "x = []"
   ]
  },
  {
   "cell_type": "code",
   "execution_count": 3,
   "metadata": {
    "collapsed": false
   },
   "outputs": [
    {
     "name": "stdout",
     "output_type": "stream",
     "text": [
      "191088\n"
     ]
    },
    {
     "data": {
      "text/html": [
       "<div>\n",
       "<table border=\"1\" class=\"dataframe\">\n",
       "  <thead>\n",
       "    <tr style=\"text-align: right;\">\n",
       "      <th></th>\n",
       "      <th>Fecha</th>\n",
       "      <th>Hora</th>\n",
       "      <th>PrecioBolsa</th>\n",
       "    </tr>\n",
       "    <tr>\n",
       "      <th>Tiempo</th>\n",
       "      <th></th>\n",
       "      <th></th>\n",
       "      <th></th>\n",
       "    </tr>\n",
       "  </thead>\n",
       "  <tbody>\n",
       "    <tr>\n",
       "      <th>1995-07-20 00:00:00</th>\n",
       "      <td>1995-07-20</td>\n",
       "      <td>0</td>\n",
       "      <td>NaN</td>\n",
       "    </tr>\n",
       "    <tr>\n",
       "      <th>1995-07-20 01:00:00</th>\n",
       "      <td>1995-07-20</td>\n",
       "      <td>1</td>\n",
       "      <td>1.073</td>\n",
       "    </tr>\n",
       "    <tr>\n",
       "      <th>1995-07-20 02:00:00</th>\n",
       "      <td>1995-07-20</td>\n",
       "      <td>2</td>\n",
       "      <td>1.073</td>\n",
       "    </tr>\n",
       "    <tr>\n",
       "      <th>1995-07-20 03:00:00</th>\n",
       "      <td>1995-07-20</td>\n",
       "      <td>3</td>\n",
       "      <td>1.073</td>\n",
       "    </tr>\n",
       "    <tr>\n",
       "      <th>1995-07-20 04:00:00</th>\n",
       "      <td>1995-07-20</td>\n",
       "      <td>4</td>\n",
       "      <td>1.073</td>\n",
       "    </tr>\n",
       "    <tr>\n",
       "      <th>1995-07-20 05:00:00</th>\n",
       "      <td>1995-07-20</td>\n",
       "      <td>5</td>\n",
       "      <td>1.073</td>\n",
       "    </tr>\n",
       "    <tr>\n",
       "      <th>1995-07-20 06:00:00</th>\n",
       "      <td>1995-07-20</td>\n",
       "      <td>6</td>\n",
       "      <td>1.073</td>\n",
       "    </tr>\n",
       "    <tr>\n",
       "      <th>1995-07-20 07:00:00</th>\n",
       "      <td>1995-07-20</td>\n",
       "      <td>7</td>\n",
       "      <td>1.073</td>\n",
       "    </tr>\n",
       "    <tr>\n",
       "      <th>1995-07-20 08:00:00</th>\n",
       "      <td>1995-07-20</td>\n",
       "      <td>8</td>\n",
       "      <td>1.074</td>\n",
       "    </tr>\n",
       "    <tr>\n",
       "      <th>1995-07-20 09:00:00</th>\n",
       "      <td>1995-07-20</td>\n",
       "      <td>9</td>\n",
       "      <td>1.074</td>\n",
       "    </tr>\n",
       "    <tr>\n",
       "      <th>1995-07-20 10:00:00</th>\n",
       "      <td>1995-07-20</td>\n",
       "      <td>10</td>\n",
       "      <td>2.827</td>\n",
       "    </tr>\n",
       "    <tr>\n",
       "      <th>1995-07-20 11:00:00</th>\n",
       "      <td>1995-07-20</td>\n",
       "      <td>11</td>\n",
       "      <td>2.827</td>\n",
       "    </tr>\n",
       "    <tr>\n",
       "      <th>1995-07-20 12:00:00</th>\n",
       "      <td>1995-07-20</td>\n",
       "      <td>12</td>\n",
       "      <td>2.827</td>\n",
       "    </tr>\n",
       "    <tr>\n",
       "      <th>1995-07-20 13:00:00</th>\n",
       "      <td>1995-07-20</td>\n",
       "      <td>13</td>\n",
       "      <td>1.074</td>\n",
       "    </tr>\n",
       "    <tr>\n",
       "      <th>1995-07-20 14:00:00</th>\n",
       "      <td>1995-07-20</td>\n",
       "      <td>14</td>\n",
       "      <td>1.073</td>\n",
       "    </tr>\n",
       "    <tr>\n",
       "      <th>1995-07-20 15:00:00</th>\n",
       "      <td>1995-07-20</td>\n",
       "      <td>15</td>\n",
       "      <td>1.073</td>\n",
       "    </tr>\n",
       "    <tr>\n",
       "      <th>1995-07-20 16:00:00</th>\n",
       "      <td>1995-07-20</td>\n",
       "      <td>16</td>\n",
       "      <td>1.073</td>\n",
       "    </tr>\n",
       "    <tr>\n",
       "      <th>1995-07-20 17:00:00</th>\n",
       "      <td>1995-07-20</td>\n",
       "      <td>17</td>\n",
       "      <td>1.073</td>\n",
       "    </tr>\n",
       "    <tr>\n",
       "      <th>1995-07-20 18:00:00</th>\n",
       "      <td>1995-07-20</td>\n",
       "      <td>18</td>\n",
       "      <td>1.074</td>\n",
       "    </tr>\n",
       "    <tr>\n",
       "      <th>1995-07-20 19:00:00</th>\n",
       "      <td>1995-07-20</td>\n",
       "      <td>19</td>\n",
       "      <td>1.897</td>\n",
       "    </tr>\n",
       "    <tr>\n",
       "      <th>1995-07-20 20:00:00</th>\n",
       "      <td>1995-07-20</td>\n",
       "      <td>20</td>\n",
       "      <td>1.897</td>\n",
       "    </tr>\n",
       "    <tr>\n",
       "      <th>1995-07-20 21:00:00</th>\n",
       "      <td>1995-07-20</td>\n",
       "      <td>21</td>\n",
       "      <td>1.897</td>\n",
       "    </tr>\n",
       "    <tr>\n",
       "      <th>1995-07-20 22:00:00</th>\n",
       "      <td>1995-07-20</td>\n",
       "      <td>22</td>\n",
       "      <td>1.073</td>\n",
       "    </tr>\n",
       "    <tr>\n",
       "      <th>1995-07-20 23:00:00</th>\n",
       "      <td>1995-07-20</td>\n",
       "      <td>23</td>\n",
       "      <td>1.073</td>\n",
       "    </tr>\n",
       "    <tr>\n",
       "      <th>1995-07-21 00:00:00</th>\n",
       "      <td>1995-07-21</td>\n",
       "      <td>0</td>\n",
       "      <td>1.073</td>\n",
       "    </tr>\n",
       "    <tr>\n",
       "      <th>1995-07-21 01:00:00</th>\n",
       "      <td>1995-07-21</td>\n",
       "      <td>1</td>\n",
       "      <td>1.000</td>\n",
       "    </tr>\n",
       "    <tr>\n",
       "      <th>1995-07-21 02:00:00</th>\n",
       "      <td>1995-07-21</td>\n",
       "      <td>2</td>\n",
       "      <td>1.000</td>\n",
       "    </tr>\n",
       "    <tr>\n",
       "      <th>1995-07-21 03:00:00</th>\n",
       "      <td>1995-07-21</td>\n",
       "      <td>3</td>\n",
       "      <td>1.000</td>\n",
       "    </tr>\n",
       "    <tr>\n",
       "      <th>1995-07-21 04:00:00</th>\n",
       "      <td>1995-07-21</td>\n",
       "      <td>4</td>\n",
       "      <td>1.000</td>\n",
       "    </tr>\n",
       "    <tr>\n",
       "      <th>1995-07-21 05:00:00</th>\n",
       "      <td>1995-07-21</td>\n",
       "      <td>5</td>\n",
       "      <td>1.000</td>\n",
       "    </tr>\n",
       "    <tr>\n",
       "      <th>...</th>\n",
       "      <td>...</td>\n",
       "      <td>...</td>\n",
       "      <td>...</td>\n",
       "    </tr>\n",
       "    <tr>\n",
       "      <th>NaT</th>\n",
       "      <td>NaT</td>\n",
       "      <td>9</td>\n",
       "      <td>NaN</td>\n",
       "    </tr>\n",
       "    <tr>\n",
       "      <th>NaT</th>\n",
       "      <td>NaT</td>\n",
       "      <td>9</td>\n",
       "      <td>NaN</td>\n",
       "    </tr>\n",
       "    <tr>\n",
       "      <th>NaT</th>\n",
       "      <td>NaT</td>\n",
       "      <td>10</td>\n",
       "      <td>NaN</td>\n",
       "    </tr>\n",
       "    <tr>\n",
       "      <th>NaT</th>\n",
       "      <td>NaT</td>\n",
       "      <td>10</td>\n",
       "      <td>NaN</td>\n",
       "    </tr>\n",
       "    <tr>\n",
       "      <th>NaT</th>\n",
       "      <td>NaT</td>\n",
       "      <td>11</td>\n",
       "      <td>NaN</td>\n",
       "    </tr>\n",
       "    <tr>\n",
       "      <th>NaT</th>\n",
       "      <td>NaT</td>\n",
       "      <td>11</td>\n",
       "      <td>NaN</td>\n",
       "    </tr>\n",
       "    <tr>\n",
       "      <th>NaT</th>\n",
       "      <td>NaT</td>\n",
       "      <td>12</td>\n",
       "      <td>NaN</td>\n",
       "    </tr>\n",
       "    <tr>\n",
       "      <th>NaT</th>\n",
       "      <td>NaT</td>\n",
       "      <td>12</td>\n",
       "      <td>NaN</td>\n",
       "    </tr>\n",
       "    <tr>\n",
       "      <th>NaT</th>\n",
       "      <td>NaT</td>\n",
       "      <td>13</td>\n",
       "      <td>NaN</td>\n",
       "    </tr>\n",
       "    <tr>\n",
       "      <th>NaT</th>\n",
       "      <td>NaT</td>\n",
       "      <td>13</td>\n",
       "      <td>NaN</td>\n",
       "    </tr>\n",
       "    <tr>\n",
       "      <th>NaT</th>\n",
       "      <td>NaT</td>\n",
       "      <td>14</td>\n",
       "      <td>NaN</td>\n",
       "    </tr>\n",
       "    <tr>\n",
       "      <th>NaT</th>\n",
       "      <td>NaT</td>\n",
       "      <td>14</td>\n",
       "      <td>NaN</td>\n",
       "    </tr>\n",
       "    <tr>\n",
       "      <th>NaT</th>\n",
       "      <td>NaT</td>\n",
       "      <td>15</td>\n",
       "      <td>NaN</td>\n",
       "    </tr>\n",
       "    <tr>\n",
       "      <th>NaT</th>\n",
       "      <td>NaT</td>\n",
       "      <td>15</td>\n",
       "      <td>NaN</td>\n",
       "    </tr>\n",
       "    <tr>\n",
       "      <th>NaT</th>\n",
       "      <td>NaT</td>\n",
       "      <td>16</td>\n",
       "      <td>NaN</td>\n",
       "    </tr>\n",
       "    <tr>\n",
       "      <th>NaT</th>\n",
       "      <td>NaT</td>\n",
       "      <td>16</td>\n",
       "      <td>NaN</td>\n",
       "    </tr>\n",
       "    <tr>\n",
       "      <th>NaT</th>\n",
       "      <td>NaT</td>\n",
       "      <td>17</td>\n",
       "      <td>NaN</td>\n",
       "    </tr>\n",
       "    <tr>\n",
       "      <th>NaT</th>\n",
       "      <td>NaT</td>\n",
       "      <td>17</td>\n",
       "      <td>NaN</td>\n",
       "    </tr>\n",
       "    <tr>\n",
       "      <th>NaT</th>\n",
       "      <td>NaT</td>\n",
       "      <td>18</td>\n",
       "      <td>NaN</td>\n",
       "    </tr>\n",
       "    <tr>\n",
       "      <th>NaT</th>\n",
       "      <td>NaT</td>\n",
       "      <td>18</td>\n",
       "      <td>NaN</td>\n",
       "    </tr>\n",
       "    <tr>\n",
       "      <th>NaT</th>\n",
       "      <td>NaT</td>\n",
       "      <td>19</td>\n",
       "      <td>NaN</td>\n",
       "    </tr>\n",
       "    <tr>\n",
       "      <th>NaT</th>\n",
       "      <td>NaT</td>\n",
       "      <td>19</td>\n",
       "      <td>NaN</td>\n",
       "    </tr>\n",
       "    <tr>\n",
       "      <th>NaT</th>\n",
       "      <td>NaT</td>\n",
       "      <td>20</td>\n",
       "      <td>NaN</td>\n",
       "    </tr>\n",
       "    <tr>\n",
       "      <th>NaT</th>\n",
       "      <td>NaT</td>\n",
       "      <td>20</td>\n",
       "      <td>NaN</td>\n",
       "    </tr>\n",
       "    <tr>\n",
       "      <th>NaT</th>\n",
       "      <td>NaT</td>\n",
       "      <td>21</td>\n",
       "      <td>NaN</td>\n",
       "    </tr>\n",
       "    <tr>\n",
       "      <th>NaT</th>\n",
       "      <td>NaT</td>\n",
       "      <td>21</td>\n",
       "      <td>NaN</td>\n",
       "    </tr>\n",
       "    <tr>\n",
       "      <th>NaT</th>\n",
       "      <td>NaT</td>\n",
       "      <td>22</td>\n",
       "      <td>NaN</td>\n",
       "    </tr>\n",
       "    <tr>\n",
       "      <th>NaT</th>\n",
       "      <td>NaT</td>\n",
       "      <td>22</td>\n",
       "      <td>NaN</td>\n",
       "    </tr>\n",
       "    <tr>\n",
       "      <th>NaT</th>\n",
       "      <td>NaT</td>\n",
       "      <td>23</td>\n",
       "      <td>NaN</td>\n",
       "    </tr>\n",
       "    <tr>\n",
       "      <th>NaT</th>\n",
       "      <td>NaT</td>\n",
       "      <td>23</td>\n",
       "      <td>NaN</td>\n",
       "    </tr>\n",
       "  </tbody>\n",
       "</table>\n",
       "<p>191088 rows × 3 columns</p>\n",
       "</div>"
      ],
      "text/plain": [
       "                         Fecha  Hora  PrecioBolsa\n",
       "Tiempo                                           \n",
       "1995-07-20 00:00:00 1995-07-20     0          NaN\n",
       "1995-07-20 01:00:00 1995-07-20     1        1.073\n",
       "1995-07-20 02:00:00 1995-07-20     2        1.073\n",
       "1995-07-20 03:00:00 1995-07-20     3        1.073\n",
       "1995-07-20 04:00:00 1995-07-20     4        1.073\n",
       "1995-07-20 05:00:00 1995-07-20     5        1.073\n",
       "1995-07-20 06:00:00 1995-07-20     6        1.073\n",
       "1995-07-20 07:00:00 1995-07-20     7        1.073\n",
       "1995-07-20 08:00:00 1995-07-20     8        1.074\n",
       "1995-07-20 09:00:00 1995-07-20     9        1.074\n",
       "1995-07-20 10:00:00 1995-07-20    10        2.827\n",
       "1995-07-20 11:00:00 1995-07-20    11        2.827\n",
       "1995-07-20 12:00:00 1995-07-20    12        2.827\n",
       "1995-07-20 13:00:00 1995-07-20    13        1.074\n",
       "1995-07-20 14:00:00 1995-07-20    14        1.073\n",
       "1995-07-20 15:00:00 1995-07-20    15        1.073\n",
       "1995-07-20 16:00:00 1995-07-20    16        1.073\n",
       "1995-07-20 17:00:00 1995-07-20    17        1.073\n",
       "1995-07-20 18:00:00 1995-07-20    18        1.074\n",
       "1995-07-20 19:00:00 1995-07-20    19        1.897\n",
       "1995-07-20 20:00:00 1995-07-20    20        1.897\n",
       "1995-07-20 21:00:00 1995-07-20    21        1.897\n",
       "1995-07-20 22:00:00 1995-07-20    22        1.073\n",
       "1995-07-20 23:00:00 1995-07-20    23        1.073\n",
       "1995-07-21 00:00:00 1995-07-21     0        1.073\n",
       "1995-07-21 01:00:00 1995-07-21     1        1.000\n",
       "1995-07-21 02:00:00 1995-07-21     2        1.000\n",
       "1995-07-21 03:00:00 1995-07-21     3        1.000\n",
       "1995-07-21 04:00:00 1995-07-21     4        1.000\n",
       "1995-07-21 05:00:00 1995-07-21     5        1.000\n",
       "...                        ...   ...          ...\n",
       "NaT                        NaT     9          NaN\n",
       "NaT                        NaT     9          NaN\n",
       "NaT                        NaT    10          NaN\n",
       "NaT                        NaT    10          NaN\n",
       "NaT                        NaT    11          NaN\n",
       "NaT                        NaT    11          NaN\n",
       "NaT                        NaT    12          NaN\n",
       "NaT                        NaT    12          NaN\n",
       "NaT                        NaT    13          NaN\n",
       "NaT                        NaT    13          NaN\n",
       "NaT                        NaT    14          NaN\n",
       "NaT                        NaT    14          NaN\n",
       "NaT                        NaT    15          NaN\n",
       "NaT                        NaT    15          NaN\n",
       "NaT                        NaT    16          NaN\n",
       "NaT                        NaT    16          NaN\n",
       "NaT                        NaT    17          NaN\n",
       "NaT                        NaT    17          NaN\n",
       "NaT                        NaT    18          NaN\n",
       "NaT                        NaT    18          NaN\n",
       "NaT                        NaT    19          NaN\n",
       "NaT                        NaT    19          NaN\n",
       "NaT                        NaT    20          NaN\n",
       "NaT                        NaT    20          NaN\n",
       "NaT                        NaT    21          NaN\n",
       "NaT                        NaT    21          NaN\n",
       "NaT                        NaT    22          NaN\n",
       "NaT                        NaT    22          NaN\n",
       "NaT                        NaT    23          NaN\n",
       "NaT                        NaT    23          NaN\n",
       "\n",
       "[191088 rows x 3 columns]"
      ]
     },
     "execution_count": 3,
     "metadata": {},
     "output_type": "execute_result"
    }
   ],
   "source": [
    "# Para correr la lista se crea un ciclo el cual lee el nombre del archivo y la extensión\n",
    "# Finalmente antes de pegar las listas (.append) se transpone la tabla de forma horizontal a vertical \n",
    "# De esta forma se logra trabajar más fácilmente con los datos\n",
    "\n",
    "for n in range(1995,2018):\n",
    "    if n < 2000:\n",
    "        skip = 3\n",
    "    else:\n",
    "        skip = 2\n",
    "    nombrearchivo = 'Precio_Bolsa_Nacional_($kwh)_' + str(n) \n",
    "    if n >= 2016:\n",
    "        nombrearchivo += '.xls'\n",
    "    else:\n",
    "        nombrearchivo += '.xlsx'\n",
    "    y = pd.read_excel(nombrearchivo, skiprows=skip, parse_cols=24)\n",
    "    z = pd.melt(y, id_vars = ['Fecha'], var_name = 'Hora', value_name = 'PrecioBolsa') \n",
    "    z['Fecha'] = pd.to_datetime(z['Fecha']) # Convierte los datos a tiempo\n",
    "    z['Hora'] = pd.to_numeric(z['Hora']) # Convierte los datos en tipo numerico\n",
    "    z['Tiempo'] = z['Fecha'] + pd.to_timedelta(z['Hora'], unit='h')\n",
    "    x.append(z)\n",
    "        \n",
    "total=pd.concat(x)   \n",
    "total.sort_values(['Tiempo'], ascending=True, inplace=True)\n",
    "total.set_index('Tiempo', drop=True, inplace=True)\n",
    "print(len(total))\n",
    "total"
   ]
  },
  {
   "cell_type": "code",
   "execution_count": 4,
   "metadata": {
    "collapsed": true
   },
   "outputs": [],
   "source": [
    "# la columna ['Fecha'] es la columna que no se agrupa\n",
    "# la columna 'Hora' será la columna que contiene las columnas agrupadas es decir de la hora 0 a la hora 23\n",
    "# la columna 'PrecioBolsa contiene los datos de los precios\n"
   ]
  },
  {
   "cell_type": "markdown",
   "metadata": {},
   "source": [
    "**2.--** Compute e imprima el número de registros con datos faltantes."
   ]
  },
  {
   "cell_type": "code",
   "execution_count": 5,
   "metadata": {
    "collapsed": false
   },
   "outputs": [
    {
     "data": {
      "text/plain": [
       "Fecha          216\n",
       "Hora             0\n",
       "PrecioBolsa    238\n",
       "dtype: int64"
      ]
     },
     "execution_count": 5,
     "metadata": {},
     "output_type": "execute_result"
    }
   ],
   "source": [
    "# Los datos faltantes al pasar la tabla de forma vertical se aumentan \n",
    "# pasando de 28 regitros a 216 registros por fecha y 238 por precio\n",
    "# la función isnull() permite identificar los datos faltantes devolviendo un objeto booleano \n",
    "total.isnull().sum()"
   ]
  },
  {
   "cell_type": "markdown",
   "metadata": {},
   "source": [
    "**3.--** Compute e imprima el número de registros duplicados."
   ]
  },
  {
   "cell_type": "code",
   "execution_count": 6,
   "metadata": {
    "collapsed": false
   },
   "outputs": [
    {
     "data": {
      "text/plain": [
       "1951"
      ]
     },
     "execution_count": 6,
     "metadata": {},
     "output_type": "execute_result"
    }
   ],
   "source": [
    "# la función .duplicated() permite identificar los datos duplicados\n",
    "len(total[total.duplicated()])"
   ]
  },
  {
   "cell_type": "markdown",
   "metadata": {},
   "source": [
    "**4.--** Elimine los registros con datos duplicados o datos faltantes, e imprima la cantidad de registros que quedan (registros completos)."
   ]
  },
  {
   "cell_type": "code",
   "execution_count": 7,
   "metadata": {
    "collapsed": false
   },
   "outputs": [
    {
     "data": {
      "text/plain": [
       "189091"
      ]
     },
     "execution_count": 7,
     "metadata": {},
     "output_type": "execute_result"
    }
   ],
   "source": [
    "# la función drop permite eliminar los datos faltantes y los datos duplicados\n",
    "total= total.dropna().drop_duplicates()\n",
    "len(total)"
   ]
  },
  {
   "cell_type": "markdown",
   "metadata": {},
   "source": [
    "**5.--** Compute y grafique el precio primedio diario."
   ]
  },
  {
   "cell_type": "code",
   "execution_count": 8,
   "metadata": {
    "collapsed": false,
    "scrolled": true
   },
   "outputs": [
    {
     "name": "stderr",
     "output_type": "stream",
     "text": [
      "E:\\Documentos\\lib\\site-packages\\dateutil\\parser.py:98: UnicodeWarning: Unicode equal comparison failed to convert both arguments to Unicode - interpreting them as being unequal\n",
      "  while nextchar == '\\x00':\n",
      "E:\\Documentos\\lib\\site-packages\\dateutil\\parser.py:123: UnicodeWarning: Unicode equal comparison failed to convert both arguments to Unicode - interpreting them as being unequal\n",
      "  elif nextchar == '.':\n"
     ]
    },
    {
     "data": {
      "image/png": "[encoded data removed]",
      "text/plain": [
       "<matplotlib.figure.Figure at 0x8fd27d0>"
      ]
     },
     "metadata": {},
     "output_type": "display_data"
    }
   ],
   "source": [
    "# Generamos columnas para año, mes, hora, día y día de la semana de esta manera podemos filtrar los días laborales, sabados y domingos\n",
    "# Para graficar el precio promedio diario se llama la lista [día] como 'D' y la lista [PrecioBolsa]\n",
    "# la función .timegrouper() permite agrupar por tiempo\n",
    "\n",
    "PrecioBolsa = total.drop(['Fecha', 'Hora'],axis=1)\n",
    "PrecioBolsa ['Año'] = PrecioBolsa.index.year\n",
    "PrecioBolsa ['Mes'] = PrecioBolsa.index.month\n",
    "PrecioBolsa ['Día'] = PrecioBolsa.index.day\n",
    "PrecioBolsa ['Hora'] = PrecioBolsa.index.hour\n",
    "PrecioBolsa ['DíaSemana'] = PrecioBolsa.index.weekday \n",
    "\n",
    "PrecioBolsa.groupby(pd.TimeGrouper('D'))['PrecioBolsa'].mean().plot(color = 'g')\n",
    "plt.ylabel('$/kWh')\n",
    "plt.xlabel('Fecha')\n",
    "plt.title('Precios promedio diario ($/kWh)')\n",
    "plt.show()"
   ]
  },
  {
   "cell_type": "markdown",
   "metadata": {},
   "source": [
    "**6.--** Compute y grafique el precio máximo por mes."
   ]
  },
  {
   "cell_type": "code",
   "execution_count": 9,
   "metadata": {
    "collapsed": false
   },
   "outputs": [
    {
     "data": {
      "image/png": "[encoded data removed]",
      "text/plain": [
       "<matplotlib.figure.Figure at 0x906cbf0>"
      ]
     },
     "metadata": {},
     "output_type": "display_data"
    }
   ],
   "source": [
    "# Para graficar el precio máximo mes se llama la lista [mes] como 'M' y la lista [PrecioBolsa]\n",
    "\n",
    "PrecioBolsa.groupby(pd.TimeGrouper('M'))['PrecioBolsa'].max().plot(color = 'b')\n",
    "plt.ylabel('$/kWh')\n",
    "plt.xlabel('Fecha')\n",
    "plt.show()"
   ]
  },
  {
   "cell_type": "markdown",
   "metadata": {},
   "source": [
    "**7.--** Compute y grafique el precio mínimo mensual.\n"
   ]
  },
  {
   "cell_type": "code",
   "execution_count": 10,
   "metadata": {
    "collapsed": false
   },
   "outputs": [
    {
     "data": {
      "image/png": "[encoded data removed]",
      "text/plain": [
       "<matplotlib.figure.Figure at 0x906c830>"
      ]
     },
     "metadata": {},
     "output_type": "display_data"
    }
   ],
   "source": [
    "# Para graficar el precio minimo mes se llama la lista [mes] como 'M' y la lista [PrecioBolsa]\n",
    "\n",
    "PrecioBolsa.groupby(pd.TimeGrouper('M'))['PrecioBolsa'].min().plot(color = 'r')\n",
    "plt.ylabel('$/kWh')\n",
    "plt.xlabel('Fecha')\n",
    "plt.show()"
   ]
  },
  {
   "cell_type": "markdown",
   "metadata": {},
   "source": [
    "**8.--** Haga un gráfico para comparar el precio máximo del mes (para cada mes) y el precio promedio mensual."
   ]
  },
  {
   "cell_type": "code",
   "execution_count": 11,
   "metadata": {
    "collapsed": false
   },
   "outputs": [
    {
     "data": {
      "image/png": "[encoded data removed]",
      "text/plain": [
       "<matplotlib.figure.Figure at 0x906c210>"
      ]
     },
     "metadata": {},
     "output_type": "display_data"
    }
   ],
   "source": [
    "PrecioBolsa.groupby(pd.TimeGrouper('M')).agg({'PrecioBolsa':{'Máximo':'max', 'Promedio':'mean'}}).plot()\n",
    "plt.ylabel('$/kWh')\n",
    "plt.xlabel('Fecha')\n",
    "plt.show()"
   ]
  },
  {
   "cell_type": "markdown",
   "metadata": {},
   "source": [
    "**9.--** Haga un histograma que muestre a que horas se produce el máximo precio diario para los días laborales."
   ]
  },
  {
   "cell_type": "code",
   "execution_count": 12,
   "metadata": {
    "collapsed": false
   },
   "outputs": [
    {
     "data": {
      "image/png": "[encoded data removed]",
      "text/plain": [
       "<matplotlib.figure.Figure at 0x9ea82b0>"
      ]
     },
     "metadata": {},
     "output_type": "display_data"
    }
   ],
   "source": [
    "diamax = PrecioBolsa[PrecioBolsa.groupby(pd.TimeGrouper('D'))['PrecioBolsa'].transform(max)== PrecioBolsa['PrecioBolsa']]\n",
    "diamax[diamax['DíaSemana'].isin(range(0,5))].hist('Hora', bins=24, align='right', color = 'c')\n",
    "plt.xticks(range(0, 25))\n",
    "plt.ylabel('Frecuencia')\n",
    "plt.xlabel('Horas')\n",
    "plt.show()"
   ]
  },
  {
   "cell_type": "markdown",
   "metadata": {},
   "source": [
    "**10.--** Haga un histograma que muestre a que horas se produce el máximo precio diario para los días sabado."
   ]
  },
  {
   "cell_type": "code",
   "execution_count": 13,
   "metadata": {
    "collapsed": false
   },
   "outputs": [
    {
     "data": {
      "image/png": "[encoded data removed]",
      "text/plain": [
       "<matplotlib.figure.Figure at 0x9069550>"
      ]
     },
     "metadata": {},
     "output_type": "display_data"
    }
   ],
   "source": [
    "diamax = PrecioBolsa[PrecioBolsa.groupby(pd.TimeGrouper('D'))['PrecioBolsa'].transform(max)== PrecioBolsa['PrecioBolsa']]\n",
    "diamax[diamax['DíaSemana'].isin([5])].hist('Hora', bins=24, align='right', color = 'm')\n",
    "plt.xticks(range(0, 25))\n",
    "plt.ylabel('Frecuencia')\n",
    "plt.xlabel('Horas')\n",
    "plt.show()"
   ]
  },
  {
   "cell_type": "markdown",
   "metadata": {},
   "source": [
    "**11.--** Haga un histograma que muestre a que horas se produce el máximo precio diario para los días domingo."
   ]
  },
  {
   "cell_type": "code",
   "execution_count": 14,
   "metadata": {
    "collapsed": false
   },
   "outputs": [
    {
     "data": {
      "image/png": "[encoded data removed]",
      "text/plain": [
       "<matplotlib.figure.Figure at 0x9595d70>"
      ]
     },
     "metadata": {},
     "output_type": "display_data"
    }
   ],
   "source": [
    "diamax = PrecioBolsa[PrecioBolsa.groupby(pd.TimeGrouper('D'))['PrecioBolsa'].transform(max)== PrecioBolsa['PrecioBolsa']]\n",
    "diamax[diamax['DíaSemana'].isin([6])].hist('Hora', bins=24, align='right', color = 'y')\n",
    "plt.xticks(range(0, 25))\n",
    "plt.ylabel('Frecuencia')\n",
    "plt.xlabel('Horas')\n",
    "plt.show()"
   ]
  },
  {
   "cell_type": "markdown",
   "metadata": {},
   "source": [
    "**12.--** Imprima una tabla con la fecha y el valor más bajo por año del precio de bolsa."
   ]
  },
  {
   "cell_type": "code",
   "execution_count": 15,
   "metadata": {
    "collapsed": false
   },
   "outputs": [
    {
     "data": {
      "text/html": [
       "<div>\n",
       "<table border=\"1\" class=\"dataframe\">\n",
       "  <thead>\n",
       "    <tr style=\"text-align: right;\">\n",
       "      <th></th>\n",
       "      <th>PrecioBolsa</th>\n",
       "    </tr>\n",
       "    <tr>\n",
       "      <th>Tiempo</th>\n",
       "      <th></th>\n",
       "    </tr>\n",
       "  </thead>\n",
       "  <tbody>\n",
       "    <tr>\n",
       "      <th>1995-07-26</th>\n",
       "      <td>0.000000</td>\n",
       "    </tr>\n",
       "    <tr>\n",
       "      <th>1995-07-28</th>\n",
       "      <td>0.000000</td>\n",
       "    </tr>\n",
       "    <tr>\n",
       "      <th>1995-07-29</th>\n",
       "      <td>0.000000</td>\n",
       "    </tr>\n",
       "    <tr>\n",
       "      <th>1995-07-30</th>\n",
       "      <td>0.000000</td>\n",
       "    </tr>\n",
       "    <tr>\n",
       "      <th>1995-07-31</th>\n",
       "      <td>0.000000</td>\n",
       "    </tr>\n",
       "    <tr>\n",
       "      <th>1995-08-01</th>\n",
       "      <td>0.000000</td>\n",
       "    </tr>\n",
       "    <tr>\n",
       "      <th>1995-10-13</th>\n",
       "      <td>0.000000</td>\n",
       "    </tr>\n",
       "    <tr>\n",
       "      <th>1996-05-10</th>\n",
       "      <td>0.000000</td>\n",
       "    </tr>\n",
       "    <tr>\n",
       "      <th>1996-06-30</th>\n",
       "      <td>0.000000</td>\n",
       "    </tr>\n",
       "    <tr>\n",
       "      <th>1996-07-04</th>\n",
       "      <td>0.000000</td>\n",
       "    </tr>\n",
       "    <tr>\n",
       "      <th>1996-07-08</th>\n",
       "      <td>0.000000</td>\n",
       "    </tr>\n",
       "    <tr>\n",
       "      <th>1996-07-09</th>\n",
       "      <td>0.000000</td>\n",
       "    </tr>\n",
       "    <tr>\n",
       "      <th>1996-07-11</th>\n",
       "      <td>0.000000</td>\n",
       "    </tr>\n",
       "    <tr>\n",
       "      <th>1996-07-12</th>\n",
       "      <td>0.000000</td>\n",
       "    </tr>\n",
       "    <tr>\n",
       "      <th>1996-07-21</th>\n",
       "      <td>0.000000</td>\n",
       "    </tr>\n",
       "    <tr>\n",
       "      <th>1996-07-22</th>\n",
       "      <td>0.000000</td>\n",
       "    </tr>\n",
       "    <tr>\n",
       "      <th>1996-07-23</th>\n",
       "      <td>0.000000</td>\n",
       "    </tr>\n",
       "    <tr>\n",
       "      <th>1996-07-24</th>\n",
       "      <td>0.000000</td>\n",
       "    </tr>\n",
       "    <tr>\n",
       "      <th>1997-07-15</th>\n",
       "      <td>10.882310</td>\n",
       "    </tr>\n",
       "    <tr>\n",
       "      <th>1998-07-09</th>\n",
       "      <td>13.847330</td>\n",
       "    </tr>\n",
       "    <tr>\n",
       "      <th>1998-07-10</th>\n",
       "      <td>13.847330</td>\n",
       "    </tr>\n",
       "    <tr>\n",
       "      <th>1998-07-11</th>\n",
       "      <td>13.847330</td>\n",
       "    </tr>\n",
       "    <tr>\n",
       "      <th>1998-07-12</th>\n",
       "      <td>13.847330</td>\n",
       "    </tr>\n",
       "    <tr>\n",
       "      <th>1998-07-13</th>\n",
       "      <td>13.847330</td>\n",
       "    </tr>\n",
       "    <tr>\n",
       "      <th>1998-07-14</th>\n",
       "      <td>13.847330</td>\n",
       "    </tr>\n",
       "    <tr>\n",
       "      <th>1998-07-15</th>\n",
       "      <td>13.847330</td>\n",
       "    </tr>\n",
       "    <tr>\n",
       "      <th>1998-07-16</th>\n",
       "      <td>13.847330</td>\n",
       "    </tr>\n",
       "    <tr>\n",
       "      <th>1998-07-17</th>\n",
       "      <td>13.847330</td>\n",
       "    </tr>\n",
       "    <tr>\n",
       "      <th>1998-07-18</th>\n",
       "      <td>13.847330</td>\n",
       "    </tr>\n",
       "    <tr>\n",
       "      <th>1998-07-19</th>\n",
       "      <td>13.847330</td>\n",
       "    </tr>\n",
       "    <tr>\n",
       "      <th>...</th>\n",
       "      <td>...</td>\n",
       "    </tr>\n",
       "    <tr>\n",
       "      <th>1998-07-31</th>\n",
       "      <td>13.847330</td>\n",
       "    </tr>\n",
       "    <tr>\n",
       "      <th>1999-03-28</th>\n",
       "      <td>18.359530</td>\n",
       "    </tr>\n",
       "    <tr>\n",
       "      <th>1999-03-31</th>\n",
       "      <td>18.359530</td>\n",
       "    </tr>\n",
       "    <tr>\n",
       "      <th>2000-03-25</th>\n",
       "      <td>21.531167</td>\n",
       "    </tr>\n",
       "    <tr>\n",
       "      <th>2000-03-26</th>\n",
       "      <td>21.531167</td>\n",
       "    </tr>\n",
       "    <tr>\n",
       "      <th>2000-03-27</th>\n",
       "      <td>21.531167</td>\n",
       "    </tr>\n",
       "    <tr>\n",
       "      <th>2000-03-28</th>\n",
       "      <td>21.531167</td>\n",
       "    </tr>\n",
       "    <tr>\n",
       "      <th>2000-03-29</th>\n",
       "      <td>21.531167</td>\n",
       "    </tr>\n",
       "    <tr>\n",
       "      <th>2000-03-31</th>\n",
       "      <td>21.531167</td>\n",
       "    </tr>\n",
       "    <tr>\n",
       "      <th>2001-08-20</th>\n",
       "      <td>24.822879</td>\n",
       "    </tr>\n",
       "    <tr>\n",
       "      <th>2002-04-20</th>\n",
       "      <td>26.777682</td>\n",
       "    </tr>\n",
       "    <tr>\n",
       "      <th>2002-04-23</th>\n",
       "      <td>26.777682</td>\n",
       "    </tr>\n",
       "    <tr>\n",
       "      <th>2002-04-25</th>\n",
       "      <td>26.777682</td>\n",
       "    </tr>\n",
       "    <tr>\n",
       "      <th>2002-04-29</th>\n",
       "      <td>26.777682</td>\n",
       "    </tr>\n",
       "    <tr>\n",
       "      <th>2003-02-14</th>\n",
       "      <td>37.013438</td>\n",
       "    </tr>\n",
       "    <tr>\n",
       "      <th>2004-03-29</th>\n",
       "      <td>32.252998</td>\n",
       "    </tr>\n",
       "    <tr>\n",
       "      <th>2005-10-04</th>\n",
       "      <td>27.581415</td>\n",
       "    </tr>\n",
       "    <tr>\n",
       "      <th>2006-10-17</th>\n",
       "      <td>26.714797</td>\n",
       "    </tr>\n",
       "    <tr>\n",
       "      <th>2007-05-03</th>\n",
       "      <td>30.173824</td>\n",
       "    </tr>\n",
       "    <tr>\n",
       "      <th>2008-05-26</th>\n",
       "      <td>29.199135</td>\n",
       "    </tr>\n",
       "    <tr>\n",
       "      <th>2009-12-22</th>\n",
       "      <td>32.892503</td>\n",
       "    </tr>\n",
       "    <tr>\n",
       "      <th>2009-12-24</th>\n",
       "      <td>32.892503</td>\n",
       "    </tr>\n",
       "    <tr>\n",
       "      <th>2010-07-12</th>\n",
       "      <td>32.024957</td>\n",
       "    </tr>\n",
       "    <tr>\n",
       "      <th>2011-06-06</th>\n",
       "      <td>33.291100</td>\n",
       "    </tr>\n",
       "    <tr>\n",
       "      <th>2012-04-29</th>\n",
       "      <td>34.988099</td>\n",
       "    </tr>\n",
       "    <tr>\n",
       "      <th>2013-01-09</th>\n",
       "      <td>40.415346</td>\n",
       "    </tr>\n",
       "    <tr>\n",
       "      <th>2014-01-11</th>\n",
       "      <td>38.941951</td>\n",
       "    </tr>\n",
       "    <tr>\n",
       "      <th>2015-01-06</th>\n",
       "      <td>46.791501</td>\n",
       "    </tr>\n",
       "    <tr>\n",
       "      <th>2016-12-09</th>\n",
       "      <td>61.100689</td>\n",
       "    </tr>\n",
       "    <tr>\n",
       "      <th>2017-01-04</th>\n",
       "      <td>61.356315</td>\n",
       "    </tr>\n",
       "  </tbody>\n",
       "</table>\n",
       "<p>70 rows × 1 columns</p>\n",
       "</div>"
      ],
      "text/plain": [
       "            PrecioBolsa\n",
       "Tiempo                 \n",
       "1995-07-26     0.000000\n",
       "1995-07-28     0.000000\n",
       "1995-07-29     0.000000\n",
       "1995-07-30     0.000000\n",
       "1995-07-31     0.000000\n",
       "1995-08-01     0.000000\n",
       "1995-10-13     0.000000\n",
       "1996-05-10     0.000000\n",
       "1996-06-30     0.000000\n",
       "1996-07-04     0.000000\n",
       "1996-07-08     0.000000\n",
       "1996-07-09     0.000000\n",
       "1996-07-11     0.000000\n",
       "1996-07-12     0.000000\n",
       "1996-07-21     0.000000\n",
       "1996-07-22     0.000000\n",
       "1996-07-23     0.000000\n",
       "1996-07-24     0.000000\n",
       "1997-07-15    10.882310\n",
       "1998-07-09    13.847330\n",
       "1998-07-10    13.847330\n",
       "1998-07-11    13.847330\n",
       "1998-07-12    13.847330\n",
       "1998-07-13    13.847330\n",
       "1998-07-14    13.847330\n",
       "1998-07-15    13.847330\n",
       "1998-07-16    13.847330\n",
       "1998-07-17    13.847330\n",
       "1998-07-18    13.847330\n",
       "1998-07-19    13.847330\n",
       "...                 ...\n",
       "1998-07-31    13.847330\n",
       "1999-03-28    18.359530\n",
       "1999-03-31    18.359530\n",
       "2000-03-25    21.531167\n",
       "2000-03-26    21.531167\n",
       "2000-03-27    21.531167\n",
       "2000-03-28    21.531167\n",
       "2000-03-29    21.531167\n",
       "2000-03-31    21.531167\n",
       "2001-08-20    24.822879\n",
       "2002-04-20    26.777682\n",
       "2002-04-23    26.777682\n",
       "2002-04-25    26.777682\n",
       "2002-04-29    26.777682\n",
       "2003-02-14    37.013438\n",
       "2004-03-29    32.252998\n",
       "2005-10-04    27.581415\n",
       "2006-10-17    26.714797\n",
       "2007-05-03    30.173824\n",
       "2008-05-26    29.199135\n",
       "2009-12-22    32.892503\n",
       "2009-12-24    32.892503\n",
       "2010-07-12    32.024957\n",
       "2011-06-06    33.291100\n",
       "2012-04-29    34.988099\n",
       "2013-01-09    40.415346\n",
       "2014-01-11    38.941951\n",
       "2015-01-06    46.791501\n",
       "2016-12-09    61.100689\n",
       "2017-01-04    61.356315\n",
       "\n",
       "[70 rows x 1 columns]"
      ]
     },
     "execution_count": 15,
     "metadata": {},
     "output_type": "execute_result"
    }
   ],
   "source": [
    "diamin = PrecioBolsa.groupby(pd.TimeGrouper('D')).min()\n",
    "yearmin = diamin[diamin.groupby(pd.TimeGrouper('A'))['PrecioBolsa'].transform(min) == diamin['PrecioBolsa']]\n",
    "yearmin[['PrecioBolsa']]"
   ]
  },
  {
   "cell_type": "markdown",
   "metadata": {},
   "source": [
    "**13.--** Haga una gráfica en que se muestre el precio promedio diario y el precio promedio mensual."
   ]
  },
  {
   "cell_type": "code",
   "execution_count": 16,
   "metadata": {
    "collapsed": false,
    "scrolled": true
   },
   "outputs": [
    {
     "data": {
      "image/png": "[encoded data removed]",
      "text/plain": [
       "<matplotlib.figure.Figure at 0x9c40ad0>"
      ]
     },
     "metadata": {},
     "output_type": "display_data"
    }
   ],
   "source": [
    "promdia = PrecioBolsa.groupby(pd.TimeGrouper('D')).mean()\n",
    "promdia['prommes'] = promdia.groupby(pd.TimeGrouper('M'))['PrecioBolsa'].transform('mean')\n",
    "promdia\n",
    "promdia.columns.values[0] = 'promdia'\n",
    "promdia[['promdia','prommes']].plot()\n",
    "plt.ylabel('$/kWh')\n",
    "plt.show()"
   ]
  },
  {
   "cell_type": "code",
   "execution_count": 17,
   "metadata": {
    "collapsed": false
   },
   "outputs": [
    {
     "data": {
      "image/png": "[encoded data removed]",
      "text/plain": [
       "<matplotlib.figure.Figure at 0x96a9d90>"
      ]
     },
     "metadata": {},
     "output_type": "display_data"
    }
   ],
   "source": [
    "# Para tener una mejor visualización se gráfica los últimos 300 días es decir año 2017\n",
    "promdia[['promdia','prommes']][-300:].plot()\n",
    "plt.ylabel('$/kWh')\n",
    "plt.show()"
   ]
  }
 ],
 "metadata": {
  "anaconda-cloud": {},
  "kernelspec": {
   "display_name": "Python 2",
   "language": "python",
   "name": "python2"
  },
  "language_info": {
   "codemirror_mode": {
    "name": "ipython",
    "version": 2
   },
   "file_extension": ".py",
   "mimetype": "text/x-python",
   "name": "python",
   "nbconvert_exporter": "python",
   "pygments_lexer": "ipython2",
   "version": "2.7.13"
  }
 },
 "nbformat": 4,
 "nbformat_minor": 1
}
